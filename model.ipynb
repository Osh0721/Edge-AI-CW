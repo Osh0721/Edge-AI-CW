{
 "cells": [
  {
   "cell_type": "code",
   "execution_count": 90,
   "metadata": {},
   "outputs": [],
   "source": [
    "import tensorflow as tf\n",
    "import numpy as np\n",
    "import os\n",
    "from PIL import Image\n",
    "from sklearn.preprocessing import LabelEncoder\n",
    "from sklearn.model_selection import train_test_split\n",
    "\n",
    "def load_image(image_path):\n",
    "    image = Image.open(image_path)\n",
    "    image = image.resize((160, 160)) \n",
    "    image = np.asarray(image)\n",
    "    image = image.astype('float32')\n",
    "    mean, std = image.mean(), image.std()\n",
    "    image = (image - mean) / std\n",
    "    image = np.expand_dims(image, axis=0)\n",
    "    return image\n",
    "\n",
    "def load_pb_model(model_filepath):\n",
    "    # Load TensorFlow Graph from .pb file\n",
    "    graph = tf.Graph()\n",
    "    graph_def = tf.compat.v1.GraphDef()\n",
    "\n",
    "    with open(model_filepath, \"rb\") as f:\n",
    "        graph_def.ParseFromString(f.read())\n",
    "    \n",
    "    with graph.as_default():\n",
    "        tf.import_graph_def(graph_def, name=\"\")\n",
    "\n",
    "    return graph\n",
    "\n",
    "def generate_embeddings(graph, dataset_path):\n",
    "    embeddings = []\n",
    "    labels = []\n",
    "    with tf.compat.v1.Session(graph=graph) as sess:\n",
    "        for person_name in os.listdir(dataset_path):\n",
    "            person_path = os.path.join(dataset_path, person_name)\n",
    "            if os.path.isdir(person_path):  # Add this check here\n",
    "                for image_name in os.listdir(person_path):\n",
    "                    image_path = os.path.join(person_path, image_name)\n",
    "                    if os.path.isfile(image_path):  # Optionally, ensure this is a file\n",
    "                        image = load_image(image_path)\n",
    "                        \n",
    "                        # Fetch the tensors\n",
    "                        images_placeholder = graph.get_tensor_by_name(\"input:0\")\n",
    "                        embeddings_tensor = graph.get_tensor_by_name(\"embeddings:0\")\n",
    "                        phase_train_placeholder = graph.get_tensor_by_name(\"phase_train:0\")\n",
    "\n",
    "                        feed_dict = {images_placeholder: image, phase_train_placeholder: False}\n",
    "                        embedding = sess.run(embeddings_tensor, feed_dict=feed_dict)\n",
    "                        \n",
    "                        embeddings.append(embedding)\n",
    "                        labels.append(person_name)\n",
    "    embeddings = np.asarray(embeddings).reshape(len(embeddings), -1)  # Reshape to (num_samples, embedding_size)\n",
    "    labels = np.asarray(labels)\n",
    "    return embeddings, labels\n",
    "\n",
    "\n",
    "model_filepath = '20180402-114759/20180402-114759.pb'  \n",
    "graph = load_pb_model(model_filepath)\n",
    "dataset_path = 'dataset'  \n",
    "embeddings, labels = generate_embeddings(graph, dataset_path)\n"
   ]
  },
  {
   "cell_type": "code",
   "execution_count": 91,
   "metadata": {},
   "outputs": [
    {
     "name": "stderr",
     "output_type": "stream",
     "text": [
      "Processing: 100%|██████████| 5749/5749 [00:26<00:00, 214.43it/s]\n"
     ]
    },
    {
     "name": "stdout",
     "output_type": "stream",
     "text": [
      "Loaded and preprocessed 13232 images.\n"
     ]
    }
   ],
   "source": [
    "import tensorflow as tf\n",
    "import numpy as np\n",
    "import os\n",
    "from PIL import Image\n",
    "from tqdm import tqdm\n",
    "\n",
    "def preprocess_image(image_path, target_size=(160, 160)):\n",
    "    \"\"\"Load an image file, resize it to target size, and normalize it.\"\"\"\n",
    "    image = Image.open(image_path)\n",
    "    image = image.resize(target_size)\n",
    "    image_array = np.array(image)\n",
    "    # Normalize the image\n",
    "    image_array = image_array.astype('float32')\n",
    "    mean, std = image_array.mean(), image_array.std()\n",
    "    image_array = (image_array - mean) / std\n",
    "    return image_array\n",
    "\n",
    "def load_dataset(dataset_path, target_size=(160, 160)):\n",
    "    \"\"\"Load and preprocess the entire dataset.\"\"\"\n",
    "    X, y = [], []\n",
    "    # Walk through the person directories and list their images\n",
    "    for person_name in tqdm(os.listdir(dataset_path), desc=\"Processing\"):\n",
    "        person_path = os.path.join(dataset_path, person_name)\n",
    "        if not os.path.isdir(person_path):\n",
    "            continue  # Skip non-directory files\n",
    "        for image_name in os.listdir(person_path):\n",
    "            image_path = os.path.join(person_path, image_name)\n",
    "            if not os.path.isfile(image_path) or not image_path.lower().endswith(('.png', '.jpg', '.jpeg')):\n",
    "                continue  # Skip non-image files\n",
    "            image_array = preprocess_image(image_path, target_size)\n",
    "            X.append(image_array)\n",
    "            y.append(person_name)\n",
    "    return np.array(X), np.array(y)\n",
    "\n",
    "# Path to your dataset\n",
    "dataset_path = 'dataset'\n",
    "\n",
    "# Load and preprocess the dataset\n",
    "X, y = load_dataset(dataset_path)\n",
    "\n",
    "print(f\"Loaded and preprocessed {len(X)} images.\")\n"
   ]
  },
  {
   "cell_type": "code",
   "execution_count": 92,
   "metadata": {},
   "outputs": [],
   "source": [
    "# Encoding labels\n",
    "label_encoder = LabelEncoder()\n",
    "labels_encoded = label_encoder.fit_transform(labels)\n",
    "\n",
    "def find_nearest_neighbor(test_embedding, embeddings):\n",
    "    min_distance = np.inf\n",
    "    nearest_neighbor_idx = -1\n",
    "    for idx, embedding in enumerate(embeddings):\n",
    "        distance = euclidean(test_embedding, embedding)\n",
    "        if distance < min_distance:\n",
    "            min_distance = distance\n",
    "            nearest_neighbor_idx = idx\n",
    "    return nearest_neighbor_idx"
   ]
  },
  {
   "cell_type": "code",
   "execution_count": 93,
   "metadata": {},
   "outputs": [],
   "source": [
    "# Function to get an embedding for a single image using FaceNet\n",
    "def get_embedding(model, image_path):\n",
    "    image = load_image(image_path)\n",
    "    with tf.compat.v1.Session(graph=model) as sess:\n",
    "        images_placeholder = model.get_tensor_by_name(\"input:0\")\n",
    "        embeddings_tensor = model.get_tensor_by_name(\"embeddings:0\")\n",
    "        phase_train_placeholder = model.get_tensor_by_name(\"phase_train:0\")\n",
    "        feed_dict = {images_placeholder: image, phase_train_placeholder: False}\n",
    "        embedding = sess.run(embeddings_tensor, feed_dict=feed_dict)\n",
    "    return embedding.flatten()"
   ]
  },
  {
   "cell_type": "code",
   "execution_count": 101,
   "metadata": {},
   "outputs": [
    {
     "name": "stdout",
     "output_type": "stream",
     "text": [
      "Predicted person: Bob_Curtis\n"
     ]
    }
   ],
   "source": [
    "# Predicting person for a test image\n",
    "test_image_path = 'test/Bob_Curtis/Bob_Curtis_0001.jpg'\n",
    "test_embedding = get_embedding(facenet_model, test_image_path)\n",
    "nearest_neighbor_idx = find_nearest_neighbor(test_embedding, embeddings)\n",
    "\n",
    "# Assuming nearest_neighbor_idx is valid\n",
    "predicted_label = labels_encoded[nearest_neighbor_idx]\n",
    "predicted_person = label_encoder.inverse_transform([predicted_label])\n",
    "\n",
    "print(f\"Predicted person: {predicted_person[0]}\")"
   ]
  },
  {
   "cell_type": "code",
   "execution_count": null,
   "metadata": {},
   "outputs": [],
   "source": []
  },
  {
   "cell_type": "code",
   "execution_count": null,
   "metadata": {},
   "outputs": [],
   "source": []
  },
  {
   "cell_type": "code",
   "execution_count": null,
   "metadata": {},
   "outputs": [],
   "source": []
  },
  {
   "cell_type": "code",
   "execution_count": null,
   "metadata": {},
   "outputs": [],
   "source": []
  },
  {
   "cell_type": "code",
   "execution_count": 31,
   "metadata": {},
   "outputs": [
    {
     "name": "stderr",
     "output_type": "stream",
     "text": [
      "WARNING:absl:At this time, the v2.11+ optimizer `tf.keras.optimizers.Adam` runs slowly on M1/M2 Macs, please use the legacy Keras optimizer instead, located at `tf.keras.optimizers.legacy.Adam`.\n",
      "WARNING:absl:There is a known slowdown when using v2.11+ Keras optimizers on M1/M2 Macs. Falling back to the legacy Keras optimizer, i.e., `tf.keras.optimizers.legacy.Adam`.\n"
     ]
    },
    {
     "name": "stdout",
     "output_type": "stream",
     "text": [
      "Epoch 1/10\n",
      "331/331 [==============================] - 2s 5ms/step - loss: 7.9440 - accuracy: 0.0500 - val_loss: 7.7655 - val_accuracy: 0.0514\n",
      "Epoch 2/10\n",
      "331/331 [==============================] - 2s 5ms/step - loss: 7.0540 - accuracy: 0.0855 - val_loss: 7.6775 - val_accuracy: 0.1050\n",
      "Epoch 3/10\n",
      "331/331 [==============================] - 2s 5ms/step - loss: 6.6132 - accuracy: 0.1188 - val_loss: 7.6428 - val_accuracy: 0.1292\n",
      "Epoch 4/10\n",
      "331/331 [==============================] - 2s 5ms/step - loss: 6.1648 - accuracy: 0.1459 - val_loss: 7.6387 - val_accuracy: 0.1519\n",
      "Epoch 5/10\n",
      "331/331 [==============================] - 1s 5ms/step - loss: 5.7109 - accuracy: 0.1780 - val_loss: 7.6379 - val_accuracy: 0.1810\n",
      "Epoch 6/10\n",
      "331/331 [==============================] - 2s 5ms/step - loss: 5.2242 - accuracy: 0.2133 - val_loss: 7.6460 - val_accuracy: 0.2134\n",
      "Epoch 7/10\n",
      "331/331 [==============================] - 2s 5ms/step - loss: 4.6877 - accuracy: 0.2550 - val_loss: 7.6501 - val_accuracy: 0.2388\n",
      "Epoch 8/10\n",
      "331/331 [==============================] - 2s 5ms/step - loss: 4.1479 - accuracy: 0.2971 - val_loss: 7.6995 - val_accuracy: 0.2626\n",
      "Epoch 9/10\n",
      "331/331 [==============================] - 1s 4ms/step - loss: 3.6086 - accuracy: 0.3439 - val_loss: 7.7628 - val_accuracy: 0.2811\n",
      "Epoch 10/10\n",
      "331/331 [==============================] - 2s 5ms/step - loss: 3.1078 - accuracy: 0.3962 - val_loss: 7.8822 - val_accuracy: 0.2928\n"
     ]
    }
   ],
   "source": [
    "import numpy as np\n",
    "from sklearn.preprocessing import LabelEncoder\n",
    "from sklearn.model_selection import train_test_split\n",
    "from keras.models import Model\n",
    "from keras.layers import Input, Dense, Dropout\n",
    "from keras.optimizers import Adam\n",
    "\n",
    "\n",
    "# Encode labels\n",
    "label_encoder = LabelEncoder()\n",
    "labels_encoded = label_encoder.fit_transform(labels)\n",
    "\n",
    "# Split the dataset\n",
    "X_train, X_test, y_train, y_test = train_test_split(embeddings, labels_encoded, test_size=0.2, random_state=42)\n",
    "\n",
    "# Define the new model architecture\n",
    "embedding_input_size = embeddings.shape[1] \n",
    "input_layer = Input(shape=(embedding_input_size,))\n",
    "x = Dense(128, activation='relu')(input_layer)\n",
    "x = Dropout(0.5)(x)\n",
    "output_layer = Dense(len(np.unique(labels_encoded)), activation='softmax')(x)\n",
    "\n",
    "# Define the model\n",
    "classifier_model = Model(inputs=input_layer, outputs=output_layer)\n",
    "\n",
    "# Compile the model\n",
    "classifier_model.compile(optimizer=Adam(learning_rate=0.001), loss='sparse_categorical_crossentropy', metrics=['accuracy'])\n",
    "\n",
    "# Train the model\n",
    "history = classifier_model.fit(X_train, y_train, epochs=10, validation_data=(X_test, y_test), batch_size=32)\n",
    "\n"
   ]
  },
  {
   "cell_type": "code",
   "execution_count": 32,
   "metadata": {},
   "outputs": [
    {
     "name": "stdout",
     "output_type": "stream",
     "text": [
      "83/83 [==============================] - 0s 3ms/step - loss: 7.8822 - accuracy: 0.2928\n",
      "Test Accuracy: 29.28%\n"
     ]
    }
   ],
   "source": [
    "# Evaluate the model on the test set\n",
    "test_loss, test_accuracy = classifier_model.evaluate(X_test, y_test, verbose=1)\n",
    "print(f\"Test Accuracy: {test_accuracy*100:.2f}%\")\n"
   ]
  },
  {
   "cell_type": "code",
   "execution_count": null,
   "metadata": {},
   "outputs": [],
   "source": [
    "# Save the model\n",
    "model_save_path = 'path_to_save_your_model/facenet_classifier.h5'\n",
    "classifier_model.save(model_save_path)\n",
    "\n",
    "# To save just the weights\n",
    "weights_save_path = 'path_to_save_your_model/facenet_classifier_weights.h5'\n",
    "classifier_model.save_weights(weights_save_path)\n"
   ]
  },
  {
   "cell_type": "code",
   "execution_count": null,
   "metadata": {},
   "outputs": [],
   "source": [
    "def predict_person(image_path, facenet_model, classifier_model, label_encoder):\n",
    "    # Load and preprocess the image\n",
    "    image = load_image(image_path)  # This should be the same function you used before\n",
    "\n",
    "    # Generate embedding using FaceNet\n",
    "    with tf.compat.v1.Session(graph=facenet_model) as sess:\n",
    "        images_placeholder = facenet_model.get_tensor_by_name(\"input:0\")\n",
    "        embeddings_tensor = facenet_model.get_tensor_by_name(\"embeddings:0\")\n",
    "        phase_train_placeholder = facenet_model.get_tensor_by_name(\"phase_train:0\")\n",
    "        \n",
    "        feed_dict = {images_placeholder: image, phase_train_placeholder: False}\n",
    "        embedding = sess.run(embeddings_tensor, feed_dict=feed_dict)\n",
    "\n",
    "    embedding = np.reshape(embedding, (1, -1))  # Reshape the embedding to match the classifier's input expectation\n",
    "    \n",
    "    # Predict using the classifier model\n",
    "    prediction = classifier_model.predict(embedding)\n",
    "    predicted_label_idx = np.argmax(prediction, axis=1)\n",
    "    predicted_label = label_encoder.inverse_transform(predicted_label_idx)\n",
    "    \n",
    "    return predicted_label\n",
    "\n",
    "# Example usage\n",
    "image_path = 'path_to_your_new_image.jpg'\n",
    "facenet_graph = load_pb_model('20180402-114759/20180402-114759.pb')  # Load the FaceNet model as before\n",
    "predicted_person = predict_person(image_path, facenet_graph, classifier_model, label_encoder)\n",
    "print(f\"Predicted person: {predicted_person}\")\n"
   ]
  }
 ],
 "metadata": {
  "kernelspec": {
   "display_name": "Python 3",
   "language": "python",
   "name": "python3"
  },
  "language_info": {
   "codemirror_mode": {
    "name": "ipython",
    "version": 3
   },
   "file_extension": ".py",
   "mimetype": "text/x-python",
   "name": "python",
   "nbconvert_exporter": "python",
   "pygments_lexer": "ipython3",
   "version": "3.10.6"
  }
 },
 "nbformat": 4,
 "nbformat_minor": 2
}
